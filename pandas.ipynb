{
 "cells": [
  {
   "cell_type": "markdown",
   "metadata": {},
   "source": [
    "# Pandas Demo\n",
    "Pandas can import tabular data such as CSV or Excel files and do all sorts of nice things with it."
   ]
  },
  {
   "cell_type": "markdown",
   "metadata": {},
   "source": [
    "Import the module:"
   ]
  },
  {
   "cell_type": "code",
   "execution_count": 1,
   "metadata": {},
   "outputs": [],
   "source": [
    "import pandas as pd"
   ]
  },
  {
   "cell_type": "markdown",
   "metadata": {},
   "source": [
    "Read CSV file:"
   ]
  },
  {
   "cell_type": "code",
   "execution_count": 2,
   "metadata": {},
   "outputs": [],
   "source": [
    "dataframe = pd.read_csv(\"testdata/test.csv\")  # Load data from a CSV file into a DataFrame"
   ]
  },
  {
   "cell_type": "markdown",
   "metadata": {},
   "source": [
    "Print head of data, which is the first view lines:"
   ]
  },
  {
   "cell_type": "code",
   "execution_count": 10,
   "metadata": {},
   "outputs": [
    {
     "name": "stdout",
     "output_type": "stream",
     "text": [
      "      name  math  english  history  science  attendance_percentage\n",
      "0    Alice    90       85       78       88                     95\n",
      "1      Bob    76       84       70       78                     92\n",
      "2  Charlie    85       88       92       87                     96\n",
      "3    David    89       78       88       90                     90\n",
      "4     Ella    75       88       84       87                     93\n"
     ]
    }
   ],
   "source": [
    "print(dataframe.head())"
   ]
  },
  {
   "cell_type": "markdown",
   "metadata": {},
   "source": [
    "Print description, basically statistics for each column:"
   ]
  },
  {
   "cell_type": "code",
   "execution_count": 11,
   "metadata": {},
   "outputs": [
    {
     "name": "stdout",
     "output_type": "stream",
     "text": [
      "            math    english    history    science  attendance_percentage\n",
      "count  10.000000  10.000000  10.000000  10.000000              10.000000\n",
      "mean   84.300000  84.400000  83.600000  85.500000              92.900000\n",
      "std     6.074537   4.376706   6.703233   3.472111               2.685351\n",
      "min    75.000000  78.000000  70.000000  78.000000              89.000000\n",
      "25%    79.250000  81.000000  79.750000  84.250000              90.500000\n",
      "50%    86.000000  85.000000  84.000000  86.500000              93.000000\n",
      "75%    88.750000  88.000000  88.000000  87.750000              94.750000\n",
      "max    92.000000  90.000000  92.000000  90.000000              97.000000\n"
     ]
    }
   ],
   "source": [
    "print(dataframe.describe())"
   ]
  },
  {
   "cell_type": "markdown",
   "metadata": {},
   "source": [
    "Get the mean score of each subject"
   ]
  },
  {
   "cell_type": "code",
   "execution_count": 3,
   "metadata": {},
   "outputs": [
    {
     "name": "stdout",
     "output_type": "stream",
     "text": [
      "math       84.3\n",
      "english    84.4\n",
      "history    83.6\n",
      "science    85.5\n",
      "dtype: float64\n"
     ]
    }
   ],
   "source": [
    "print(dataframe[['math', 'english', 'history', 'science']].mean())"
   ]
  },
  {
   "cell_type": "markdown",
   "metadata": {},
   "source": [
    "Find students with attendance percentage above 95:"
   ]
  },
  {
   "cell_type": "code",
   "execution_count": 4,
   "metadata": {},
   "outputs": [
    {
     "name": "stdout",
     "output_type": "stream",
     "text": [
      "      name  math  english  history  science  attendance_percentage\n",
      "2  Charlie    85       88       92       87                     96\n",
      "6    Grace    92       90       84       88                     97\n"
     ]
    }
   ],
   "source": [
    "print(dataframe[dataframe['attendance_percentage'] > 95])"
   ]
  },
  {
   "cell_type": "markdown",
   "metadata": {},
   "source": [
    "Find the student with the highest average score across all subjects"
   ]
  },
  {
   "cell_type": "code",
   "execution_count": 14,
   "metadata": {},
   "outputs": [
    {
     "name": "stdout",
     "output_type": "stream",
     "text": [
      "    name  math  english  history  science  attendance_percentage  \\\n",
      "6  Grace    92       90       84       88                     97   \n",
      "\n",
      "   average_score  \n",
      "6           88.5  \n"
     ]
    }
   ],
   "source": [
    "dataframe['average_score'] = dataframe[['math', 'english', 'history', 'science']].mean(axis=1)\n",
    "top_student = dataframe[dataframe['average_score'] == dataframe['average_score'].max()]\n",
    "print(top_student)"
   ]
  }
 ],
 "metadata": {
  "kernelspec": {
   "display_name": ".venv",
   "language": "python",
   "name": "python3"
  },
  "language_info": {
   "codemirror_mode": {
    "name": "ipython",
    "version": 3
   },
   "file_extension": ".py",
   "mimetype": "text/x-python",
   "name": "python",
   "nbconvert_exporter": "python",
   "pygments_lexer": "ipython3",
   "version": "3.11.4"
  },
  "orig_nbformat": 4
 },
 "nbformat": 4,
 "nbformat_minor": 2
}
